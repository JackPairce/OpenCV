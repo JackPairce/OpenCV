{
 "cells": [
  {
   "cell_type": "code",
   "execution_count": 2,
   "metadata": {},
   "outputs": [],
   "source": [
    "from MathProject import *"
   ]
  },
  {
   "cell_type": "code",
   "execution_count": 3,
   "metadata": {},
   "outputs": [],
   "source": [
    "import os\n",
    "listdir = os.listdir(\"./asset/\")\n",
    "from tqdm import tqdm\n",
    "Config = {\n",
    "    3206: [267.78174459934235, -55.311890840361734],\n",
    "    3283: [831.0437180995941, 165.5],\n",
    "    3342: [3103.682450890541, -90],\n",
    "    3549: [3756.4347579479218, 0],\n",
    "}\n",
    "\n",
    "Newton = {3206: 23, 3283: 42, 3342: 45, 3549: 30}\n",
    "fit = {3206: 59, 3283: 139, 3342: 190, 3549: 110}\n",
    "\n",
    "colors = [\n",
    "    \"#1f77b4\",\n",
    "    \"#ff7f0e\",\n",
    "    \"#2ca02c\",\n",
    "    \"#d62728\",\n",
    "    \"#9467bd\",\n",
    "    \"#8c564b\",\n",
    "    \"#e377c2\",\n",
    "    \"#7f7f7f\",\n",
    "    \"#bcbd22\",\n",
    "    \"#17becf\",\n",
    "]\n"
   ]
  },
  {
   "cell_type": "code",
   "execution_count": 4,
   "metadata": {},
   "outputs": [
    {
     "name": "stderr",
     "output_type": "stream",
     "text": [
      "Chargement Des Images:   0%|          | 0/4 [00:00<?, ?it/s]"
     ]
    },
    {
     "name": "stderr",
     "output_type": "stream",
     "text": [
      "Chargement Des Images: 100%|██████████| 4/4 [00:16<00:00,  4.03s/it]\n"
     ]
    }
   ],
   "source": [
    "Images = Config.copy()\n",
    "\n",
    "print()\n",
    "for i, image_path in  zip(tqdm(range(len(listdir)), desc=\"Chargement Des Images\"), listdir):\n",
    "    # origin, filtered, segmented, binarized, gray, contours\n",
    "    Images[int(image_path.split(\".\")[0])] = ImageProcessing(\n",
    "        f\"./asset/{image_path}\",\n",
    "        Config[int(image_path.split(\".\")[0])][1],\n",
    "    )"
   ]
  },
  {
   "cell_type": "code",
   "execution_count": 70,
   "metadata": {},
   "outputs": [
    {
     "name": "stdout",
     "output_type": "stream",
     "text": [
      "name of the image is  Calculer la Surface\n"
     ]
    },
    {
     "name": "stderr",
     "output_type": "stream",
     "text": [
      "ApproximationPoly: 100%|██████████| 1/1 [00:00<00:00,  1.01it/s]\n"
     ]
    },
    {
     "name": "stdout",
     "output_type": "stream",
     "text": [
      "OpenCv Area 696909.0\n",
      "La valeur approximative de la surface de l'image 3206 est 616713.6787241055\n",
      "Error of area 80195.32127589453, 11.507287361175495%\n"
     ]
    },
    {
     "name": "stderr",
     "output_type": "stream",
     "text": [
      "ApproximationPoly: 100%|██████████| 1/1 [00:02<00:00,  2.23s/it]\n"
     ]
    },
    {
     "name": "stdout",
     "output_type": "stream",
     "text": [
      "OpenCv Area 531477.5\n",
      "La valeur approximative de la surface de l'image 3283 est 458180.7883826544\n",
      "Error of area 73296.71161734557, 13.791122223865651%\n"
     ]
    },
    {
     "name": "stderr",
     "output_type": "stream",
     "text": [
      "ApproximationPoly: 100%|██████████| 1/1 [00:02<00:00,  2.17s/it]\n"
     ]
    },
    {
     "name": "stdout",
     "output_type": "stream",
     "text": [
      "OpenCv Area 800188.0\n",
      "La valeur approximative de la surface de l'image 3342 est 694866.5828319938\n",
      "Error of area 105321.41716800618, 13.162084056247556%\n"
     ]
    },
    {
     "name": "stderr",
     "output_type": "stream",
     "text": [
      "ApproximationPoly: 100%|██████████| 1/1 [00:01<00:00,  1.60s/it]\n"
     ]
    },
    {
     "name": "stdout",
     "output_type": "stream",
     "text": [
      "OpenCv Area 771271.0\n",
      "La valeur approximative de la surface de l'image 3549 est 687887.3672515111\n",
      "Error of area 83383.63274848892, 10.811197717597176%\n"
     ]
    },
    {
     "data": {
      "image/png": "[encoded data removed]",
      "text/plain": [
       "<Figure size 1200x800 with 4 Axes>"
      ]
     },
     "metadata": {},
     "output_type": "display_data"
    }
   ],
   "source": [
    "import random\n",
    "\n",
    "def Preparation(index, key, element):\n",
    "    Th = Config[key][0]\n",
    "    c = filter_contours_by_perimeter(element[index], Th)\n",
    "    cx,cy = Get_Center(c)\n",
    "    return c,cx,cy\n",
    "\n",
    "def triangle_area(x1, y1, x2, y2, x3, y3):\n",
    "    return 0.5 * abs(x1*(y2 - y3) + x2*(y3 - y1) + x3*(y1 - y2))\n",
    "\n",
    "NameTitles = [\"origine\", \"filtered\", \"segmented\", \"binarized\", \"gray\", \"contours\",'partitionnement','Interpolation','Approximation','Visualisation approximant morceaux sélectionnés','Calculer la Surface']\n",
    "Guide = f\"\"\"\n",
    "Veuillez choisir une image à afficher:<br>\n",
    "\"\"\"\n",
    "for i,name in enumerate(NameTitles):\n",
    "    Guide+= f\"\"\"\n",
    "{i}: {name}\\n\n",
    "\"\"\"\n",
    "index = int(input(Guide))\n",
    "Name = NameTitles[index]\n",
    "\n",
    "def get_index(lst:ndarray, target):\n",
    "    print(lst)\n",
    "    for index, tup in enumerate(lst):\n",
    "        print(tup)\n",
    "        if tup[0] == target:\n",
    "            return index\n",
    "    return -1 \n",
    "\n",
    "print('name of the image is ', Name)\n",
    "fig, axs = plt.subplots(2, 2, figsize=(12, 8))\n",
    "fig.suptitle(f\"Les Images {Name}\", fontsize=16)\n",
    "fig.set_size_inches(12, 8)\n",
    "\n",
    "for ax,(key,element) in zip(axs.flatten(),Images.items()):\n",
    "    ax.invert_yaxis()\n",
    "    \n",
    "    if index != 9:\n",
    "        ax.set_aspect(\"equal\")\n",
    "        ax.set_adjustable(\"box\")\n",
    "\n",
    "    match index:\n",
    "        case 5:\n",
    "            c, cx,cy = Preparation(index,key, element)\n",
    "            ax.scatter(c[:,:,0][0],c[:,:,1][0])\n",
    "            ax.plot(c[:,:,0],c[:,:,1])\n",
    "            ax.scatter(cx,cy,c='r')\n",
    "        case 6:\n",
    "            c, *cxy = Preparation(5,key, element)\n",
    "            ax.plot(c[:,:,0],c[:,:,1])\n",
    "            circle_radius,END = plot_circle_and_sectors(c,cxy,10)\n",
    "            circle = patches.Circle(cxy, circle_radius, color=\"blue\", fill=False)\n",
    "            ax.add_patch(circle)\n",
    "            for i in range(10):\n",
    "                ax.plot([cxy[0],END[i][0]],[cxy[1],END[i][1]],c='r')    \n",
    "        case 7:\n",
    "            c, Cx, Cy = Preparation(5,key, element)\n",
    "            sector = Newton[key]\n",
    "            # sector = 10\n",
    "            conf, sector = NewtonInterpolation(c, Cx, Cy, sector, sector)\n",
    "            points, Err = PlotPoly(c, Cx, Cy, conf, sector)\n",
    "\n",
    "            for X, Pn in points:\n",
    "                ax.plot(X, Pn)\n",
    "            print(\n",
    "                f\"Num Sector {sector}, Err {Err}\"\n",
    "            )\n",
    "\n",
    "        case 8:\n",
    "            c, Cx,Cy = Preparation(5,key, element)\n",
    "            # sector = fit[key]\n",
    "            sector = 8\n",
    "            conf, sector = ApproximationPoly(c, Cx, Cy, sector, sector)\n",
    "            points, Err = PlotPlyFit(c, Cx, Cy, conf, sector)\n",
    "            cxy = (Cx,Cy)\n",
    "            ax.imshow(element[0],cmap='gray')\n",
    "            for X, Pn in points:\n",
    "                ax.plot(X, Pn)\n",
    "            circle_radius,END = plot_circle_and_sectors(c,cxy,sector)\n",
    "            circle = patches.Circle(cxy, circle_radius, color=\"blue\", fill=False)\n",
    "            ax.add_patch(circle)\n",
    "            for i in range(10):\n",
    "                ax.plot([cxy[0],END[i][0]],[cxy[1],END[i][1]],c='r') \n",
    "            print(\n",
    "                f\"Num Sector {sector}, Err {Err}\"\n",
    "            )\n",
    "        case 9:\n",
    "            c, Cx,Cy = Preparation(5,key, element)\n",
    "\n",
    "            if(True):\n",
    "                sector = fit[key]\n",
    "                sector = 10\n",
    "                conf, sector = ApproximationPoly(c, Cx, Cy, sector, sector)\n",
    "                points, Err = PlotPlyFit(c, Cx, Cy, conf, sector)\n",
    "            else:\n",
    "                # sector = Newton[key]\n",
    "                sector = 10\n",
    "                conf, sector = NewtonInterpolation(c, Cx, Cy, sector, sector)\n",
    "                points, Err = PlotPoly(c, Cx, Cy, conf, sector)\n",
    "\n",
    "            angles = generate_angles(num_sectors=sector)\n",
    "            R=process_points(c,[Cx,Cy],angles)\n",
    "            \n",
    "            X, Pn = points[random.choice(list(range(len(points))))]\n",
    "            \n",
    "            i = 0\n",
    "            while(True):\n",
    "                Target,_ = classify_angles([X[i],Pn[i]],[Cx, Cy],angles)\n",
    "\n",
    "                if(Target == None):\n",
    "                    i+=1\n",
    "                else: break\n",
    "\n",
    "            Cpoints = R[Target]\n",
    "\n",
    "            ApproX = [x[0] for x in Cpoints]\n",
    "            ApproY = [x[1] for x in Cpoints]\n",
    "            for approx in zip(X, Pn):\n",
    "                Searched = list(np.isclose(ApproX , approx[0]))\n",
    "                if (sum(Searched)):\n",
    "                    ax.plot([approx[0],approx[0]],[approx[1],ApproY[Searched.index(True)]],c='r')\n",
    "            \n",
    "            ax.plot(ApproX,ApproY)\n",
    "            ax.plot(X, Pn)\n",
    "            print(len(Cpoints),len(X))\n",
    "            print(\n",
    "                f\"Num Sector {sector}, Err {Err}\"\n",
    "            )\n",
    "        case 10:\n",
    "            c, Cx,Cy = Preparation(5,key, element)\n",
    "            sector = fit[key]\n",
    "            conf, sector = ApproximationPoly(c, Cx, Cy, sector, sector)\n",
    "            points, Err = PlotPlyFit(c, Cx, Cy, conf, sector)\n",
    "            Area = 0\n",
    "            for SectorPoints in points:\n",
    "                for ApproX,ApproY in zip(zip(SectorPoints[0][:-1],SectorPoints[0][1:]),zip(SectorPoints[1][:-1],SectorPoints[1][1:])):\n",
    "                    Area += triangle_area(Cx,Cy,ApproX[0],ApproY[0],ApproX[1],ApproY[1],)\n",
    "                    # ax.plot([Cx,ApproX[0],ApproX[1],Cx],[Cy,ApproY[0],ApproY[1],Cy],c='r')\n",
    "            print(f'OpenCv Area {cv2.contourArea(c)}')\n",
    "            print(f\"La valeur approximative de la surface de l'image {key} est {Area}\")\n",
    "            # np.round()\n",
    "            print(f'Error of area {abs(Area-cv2.contourArea(c))}, {(abs(Area-cv2.contourArea(c))/cv2.contourArea(c))*100}%')\n",
    "        case _:\n",
    "            ax.imshow(element[index],cmap='gray')\n",
    "    if index != 9:\n",
    "        ax.axis(\"off\")\n",
    "fig.tight_layout(pad=2.0)\n",
    "plt.show()"
   ]
  },
  {
   "cell_type": "code",
   "execution_count": 37,
   "metadata": {},
   "outputs": [],
   "source": [
    "import pandas as pd"
   ]
  },
  {
   "cell_type": "code",
   "execution_count": 44,
   "metadata": {},
   "outputs": [
    {
     "name": "stdout",
     "output_type": "stream",
     "text": [
      "\n"
     ]
    },
    {
     "name": "stderr",
     "output_type": "stream",
     "text": [
      "ApproximationPoly: 100%|██████████| 1/1 [00:00<00:00,  1.43it/s]\n"
     ]
    },
    {
     "name": "stdout",
     "output_type": "stream",
     "text": [
      "Tableau des Erreurs Réelles de l'image 3206:\n"
     ]
    },
    {
     "name": "stderr",
     "output_type": "stream",
     "text": [
      "ApproximationPoly: 100%|██████████| 1/1 [00:01<00:00,  1.33s/it]\n"
     ]
    },
    {
     "name": "stdout",
     "output_type": "stream",
     "text": [
      "Tableau des Erreurs Réelles de l'image 3283:\n"
     ]
    },
    {
     "name": "stderr",
     "output_type": "stream",
     "text": [
      "ApproximationPoly: 100%|██████████| 1/1 [00:01<00:00,  1.77s/it]\n"
     ]
    },
    {
     "name": "stdout",
     "output_type": "stream",
     "text": [
      "Tableau des Erreurs Réelles de l'image 3342:\n"
     ]
    },
    {
     "name": "stderr",
     "output_type": "stream",
     "text": [
      "ApproximationPoly: 100%|██████████| 1/1 [00:01<00:00,  1.14s/it]\n"
     ]
    },
    {
     "name": "stdout",
     "output_type": "stream",
     "text": [
      "Tableau des Erreurs Réelles de l'image 3549:\n"
     ]
    }
   ],
   "source": [
    "# data = [[1, 2], [3, 4]]\n",
    "# pd.DataFrame(data, columns=[\"Foo\", \"Bar\"])\n",
    "\n",
    "# Fonction pour calculer les normes\n",
    "def L_inf(error):\n",
    "    return max(abs(e) for e in error)\n",
    "\n",
    "def L_1(error):\n",
    "    return sum(abs(e) for e in error)\n",
    "\n",
    "def L_2(error):\n",
    "    return sum(e ** 2 for e in error) ** 0.5\n",
    "\n",
    "# 3206 3283 3342 3549\n",
    "print()\n",
    "for key,element in Images.items():\n",
    "    c, Cx,Cy = Preparation(5,key, element)\n",
    "    sector = fit[key]\n",
    "    conf, sector = ApproximationPoly(c, Cx, Cy, sector, sector)\n",
    "    points, Err = PlotPlyFit(c, Cx, Cy, conf, sector)\n",
    "\n",
    "    angles = generate_angles(num_sectors=sector)\n",
    "    R=process_points(c,[Cx,Cy],angles)\n",
    "\n",
    "\n",
    "    error_table = []\n",
    "    for inx,Initial in enumerate(R.values()):\n",
    "        initX = [x[0] for x in Initial][::-1]\n",
    "        initY = [x[1] for x in Initial][::-1]\n",
    "        Y = []\n",
    "        for ApproX,ApproY in zip(points[inx][0],points[inx][1]):\n",
    "            Searched = list(np.isclose(initX , ApproX))\n",
    "            if (not sum(Searched)):\n",
    "                continue\n",
    "            else:\n",
    "                inex = Searched.index(True)\n",
    "                Y.append(initY[Searched.index(True)] - ApproY)\n",
    "        error_inf = L_inf(Y)\n",
    "        error_1 = L_1(Y)\n",
    "        error_2 = L_2(Y)  \n",
    "        error_table.append([error_inf, error_1, error_2])\n",
    "            \n",
    "    print(f\"Tableau des Erreurs Réelles de l'image {key}:\")\n",
    "    df =pd.DataFrame(error_table, columns=[\"L_inf\",\"L_1\",\"L_2\"])\n",
    "    df.to_csv(f'./Data/LesNorm_{key}.csv', index=False)\n"
   ]
  },
  {
   "cell_type": "code",
   "execution_count": null,
   "metadata": {},
   "outputs": [],
   "source": [
    "def triangle_area(x1, y1, x2, y2, x3, y3):\n",
    "    return 0.5 * abs(x1*(y2 - y3) + x2*(y3 - y1) + x3*(y1 - y2))"
   ]
  }
 ],
 "metadata": {
  "kernelspec": {
   "display_name": "Python 3",
   "language": "python",
   "name": "python3"
  },
  "language_info": {
   "codemirror_mode": {
    "name": "ipython",
    "version": 3
   },
   "file_extension": ".py",
   "mimetype": "text/x-python",
   "name": "python",
   "nbconvert_exporter": "python",
   "pygments_lexer": "ipython3",
   "version": "3.12.0"
  }
 },
 "nbformat": 4,
 "nbformat_minor": 2
}
